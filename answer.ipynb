{
 "cells": [
  {
   "cell_type": "markdown",
   "metadata": {},
   "source": [
    "# Estimating Macro Vars"
   ]
  },
  {
   "cell_type": "code",
   "execution_count": 298,
   "metadata": {},
   "outputs": [],
   "source": [
    "# Load Pkgs\n",
    "using DataFrames;\n",
    "using CSV;\n",
    "using Optim;\n",
    "using Clp\n",
    "using Ipopt;\n",
    "using JuMP;"
   ]
  },
  {
   "cell_type": "code",
   "execution_count": 137,
   "metadata": {},
   "outputs": [],
   "source": [
    "# Set Dirs\n",
    "dir = \"/home/justin/Dropbox/projects/julia/est_macro_vars_practice/\";\n",
    "\n",
    "# Read Data\n",
    "df = CSV.File(dir * \"data_agg_econ.csv\") |> DataFrame;"
   ]
  },
  {
   "cell_type": "markdown",
   "metadata": {},
   "source": [
    "#### 2.1"
   ]
  },
  {
   "cell_type": "code",
   "execution_count": 139,
   "metadata": {},
   "outputs": [],
   "source": [
    "function compute_tup(df, k, year)\n",
    "    \n",
    "    T = sum(df[df[:year] .<= year, :].exprt_chng[1:k[1]] .> 0) > k[1] / 2\n",
    "    U = sum(df[df[:year] .<= year, :].unemp_chng[1:k[2]] .> 0) > k[2] / 2\n",
    "    P = sum(df[df[:year] .<= year, :].prices_chng[1:k[3]] .> 0) > k[3] / 2\n",
    "    \n",
    "    return [T, U, P]\n",
    "end;"
   ]
  },
  {
   "cell_type": "code",
   "execution_count": 140,
   "metadata": {},
   "outputs": [
    {
     "data": {
      "text/plain": [
       "3-element Array{Bool,1}:\n",
       "  true\n",
       " false\n",
       "  true"
      ]
     },
     "execution_count": 140,
     "metadata": {},
     "output_type": "execute_result"
    }
   ],
   "source": [
    "k = [8,4,6]\n",
    "year = 2012\n",
    "chngs_846 = compute_tup(df, k, year)\n",
    "chngs_846"
   ]
  },
  {
   "cell_type": "markdown",
   "metadata": {},
   "source": [
    "#### 2.2"
   ]
  },
  {
   "cell_type": "code",
   "execution_count": 360,
   "metadata": {},
   "outputs": [
    {
     "data": {
      "text/plain": [
       "1×3 LinearAlgebra.Adjoint{Bool,Array{Bool,1}}:\n",
       " true  false  true"
      ]
     },
     "execution_count": 360,
     "metadata": {},
     "output_type": "execute_result"
    }
   ],
   "source": [
    "X"
   ]
  },
  {
   "cell_type": "code",
   "execution_count": null,
   "metadata": {},
   "outputs": [],
   "source": []
  },
  {
   "cell_type": "code",
   "execution_count": 363,
   "metadata": {},
   "outputs": [],
   "source": [
    "function find_optim_gamma(G, X, init_gamma=[0.5, 0.5, 0.5])\n",
    "    \n",
    "    m = Model(with_optimizer(Ipopt.Optimizer), )\n",
    "\n",
    "    M = size(X)[1]\n",
    "    N = size(X)[2]\n",
    "    gamma = init_gamma\n",
    "    \n",
    "    @variable(m, 1 >= gamma[1:M,1:N] >= 0 );\n",
    "    @constraint(m, con_1, sum(X'*gamma) >= 0)\n",
    "    @constraint(m, con_2, sum(-X'*gamma) >= -1)\n",
    "    @NLobjective(m, Min, sum(((X[i]*gamma[i]) - G[1])^2 for i in 1:N))\n",
    "    JuMP.optimize!(m);\n",
    "    \n",
    "    print(m)\n",
    "    \n",
    "    return [value(gamma[i]) for i in 1:3]\n",
    "end;"
   ]
  },
  {
   "cell_type": "code",
   "execution_count": 364,
   "metadata": {},
   "outputs": [
    {
     "name": "stdout",
     "output_type": "stream",
     "text": [
      "This is Ipopt version 3.12.10, running with linear solver mumps.\n",
      "NOTE: Other linear solvers might be more efficient (see Ipopt documentation).\n",
      "\n",
      "Number of nonzeros in equality constraint Jacobian...:        0\n",
      "Number of nonzeros in inequality constraint Jacobian.:        6\n",
      "Number of nonzeros in Lagrangian Hessian.............:        3\n",
      "\n",
      "Total number of variables............................:        3\n",
      "                     variables with only lower bounds:        0\n",
      "                variables with lower and upper bounds:        3\n",
      "                     variables with only upper bounds:        0\n",
      "Total number of equality constraints.................:        0\n",
      "Total number of inequality constraints...............:        2\n",
      "        inequality constraints with only lower bounds:        2\n",
      "   inequality constraints with lower and upper bounds:        0\n",
      "        inequality constraints with only upper bounds:        0\n",
      "\n",
      "iter    objective    inf_pr   inf_du lg(mu)  ||d||  lg(rg) alpha_du alpha_pr  ls\n",
      "   0  2.1762200e+01 0.00e+00 3.44e+00  -1.0 0.00e+00    -  0.00e+00 0.00e+00   0\n",
      "   1  2.1019647e+01 0.00e+00 6.34e+00  -1.0 3.16e-01    -  2.15e-01 1.00e+00f  1\n",
      "   2  1.9499110e+01 0.00e+00 1.81e+00  -1.0 8.34e-01    -  3.74e-01 7.41e-01f  1\n",
      "   3  1.9492625e+01 0.00e+00 8.98e-01  -1.0 7.90e-02    -  1.00e+00 4.48e-01f  2\n",
      "   4  1.9346931e+01 0.00e+00 2.00e-07  -1.7 3.06e-02    -  1.00e+00 1.00e+00f  1\n",
      "   5  1.9296019e+01 0.00e+00 4.52e-04  -3.8 1.08e-02    -  9.89e-01 1.00e+00f  1\n",
      "   6  1.9295004e+01 0.00e+00 1.84e-11  -5.7 2.30e-04    -  1.00e+00 1.00e+00f  1\n",
      "   7  1.9295000e+01 0.00e+00 2.51e-14  -8.6 7.48e-07    -  1.00e+00 1.00e+00f  1\n",
      "\n",
      "Number of Iterations....: 7\n",
      "\n",
      "                                   (scaled)                 (unscaled)\n",
      "Objective...............:   1.9294999931518007e+01    1.9294999931518007e+01\n",
      "Dual infeasibility......:   2.5059035640133008e-14    2.5059035640133008e-14\n",
      "Constraint violation....:   0.0000000000000000e+00    0.0000000000000000e+00\n",
      "Complementarity.........:   2.5093391019976913e-09    2.5093391019976913e-09\n",
      "Overall NLP error.......:   2.5093391019976913e-09    2.5093391019976913e-09\n",
      "\n",
      "\n",
      "Number of objective function evaluations             = 10\n",
      "Number of objective gradient evaluations             = 8\n",
      "Number of equality constraint evaluations            = 0\n",
      "Number of inequality constraint evaluations          = 10\n",
      "Number of equality constraint Jacobian evaluations   = 0\n",
      "Number of inequality constraint Jacobian evaluations = 1\n",
      "Number of Lagrangian Hessian evaluations             = 7\n",
      "Total CPU secs in IPOPT (w/o function evaluations)   =      0.002\n",
      "Total CPU secs in NLP function evaluations           =      0.000\n",
      "\n",
      "EXIT: Optimal Solution Found.\n",
      "Min (1.0 * gamma[1,1] - 2.7) ^ 2.0 + (0.0 * gamma[1,2] - 2.7) ^ 2.0 + (1.0 * gamma[1,3] - 2.7) ^ 2.0\n",
      "Subject to\n",
      " gamma[1,1] ≥ 0.0\n",
      " gamma[1,2] ≥ 0.0\n",
      " gamma[1,3] ≥ 0.0\n",
      " gamma[1,1] ≤ 1.0\n",
      " gamma[1,2] ≤ 1.0\n",
      " gamma[1,3] ≤ 1.0\n",
      " 2 gamma[1,1] + 2 gamma[1,2] + 2 gamma[1,3] ≥ 0.0\n",
      " -2 gamma[1,1] - 2 gamma[1,2] - 2 gamma[1,3] ≥ -1.0\n"
     ]
    },
    {
     "data": {
      "text/plain": [
       "3-element Array{Float64,1}:\n",
       " 0.250000006987959 \n",
       " 0.0               \n",
       " 0.2500000069879589"
      ]
     },
     "execution_count": 364,
     "metadata": {},
     "output_type": "execute_result"
    }
   ],
   "source": [
    "G = df[df[:year] .== 2013, :].gdp_chng\n",
    "X = chngs_846'\n",
    "\n",
    "find_optim_gamma(G, X)"
   ]
  },
  {
   "cell_type": "code",
   "execution_count": 330,
   "metadata": {},
   "outputs": [
    {
     "data": {
      "text/plain": [
       "1×3 LinearAlgebra.Adjoint{Bool,Array{Bool,1}}:\n",
       " true  false  true"
      ]
     },
     "execution_count": 330,
     "metadata": {},
     "output_type": "execute_result"
    }
   ],
   "source": [
    "X"
   ]
  },
  {
   "cell_type": "code",
   "execution_count": 331,
   "metadata": {},
   "outputs": [
    {
     "data": {
      "text/plain": [
       "1-element Array{Union{Missing, Float64},1}:\n",
       " 2.7"
      ]
     },
     "execution_count": 331,
     "metadata": {},
     "output_type": "execute_result"
    }
   ],
   "source": [
    "G"
   ]
  },
  {
   "cell_type": "code",
   "execution_count": null,
   "metadata": {},
   "outputs": [],
   "source": []
  }
 ],
 "metadata": {
  "kernelspec": {
   "display_name": "Julia 1.1.0",
   "language": "julia",
   "name": "julia-1.1"
  },
  "language_info": {
   "file_extension": ".jl",
   "mimetype": "application/julia",
   "name": "julia",
   "version": "1.1.0"
  }
 },
 "nbformat": 4,
 "nbformat_minor": 2
}
